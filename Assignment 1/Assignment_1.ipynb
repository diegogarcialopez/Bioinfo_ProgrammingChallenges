{
 "cells": [
  {
   "cell_type": "markdown",
   "metadata": {},
   "source": [
    "# Assignment 1"
   ]
  },
  {
   "cell_type": "markdown",
   "metadata": {},
   "source": [
    "There are three tab-delimited data files:\n",
    "\n",
    "1. seed_stock_data.tsv\n",
    "\n",
    "2. gene_information.tsv\n",
    "\n",
    "3. cross_data.tsv\n",
    "\n",
    "\n",
    "#1 contains information about seeds in your genebank\n",
    "\n",
    "#2 contains information about genes\n",
    "\n",
    "#3 contains information about the crosses you have made\n",
    "\n",
    "Each file begins with a heading line, followed by lines of data"
   ]
  },
  {
   "cell_type": "markdown",
   "metadata": {},
   "source": [
    "**Task 1**\n",
    "\n",
    "\"Simulate\" planting 7 grams of seeds from each of the records in the seed stock genebank\n",
    "then you should update the genebank information to show the new quantity of seeds\n",
    "that remain after a planting. The new state of the genebank\n",
    "should be printed to a new file, using exactly the same format as the\n",
    "original file seed_stock_data.tsv\n",
    "\n",
    "-- if the amount of seed is reduced to zero or less than zero, then\n",
    "a friendly warning message should appear on the screen. The amount\n",
    "of seed left in the gene bank is, of course, not LESS than zero \n"
   ]
  },
  {
   "cell_type": "code",
   "execution_count": 19,
   "metadata": {},
   "outputs": [
    {
     "name": "stdout",
     "output_type": "stream",
     "text": [
      "Seed_Stock\tMutant_Gene_ID\tLast_Planted\tStorage\tGrams_Remaining\n",
      "\n",
      "A334\tAT1G69120\t5/7/2014\tcama2\t28\n",
      "\n",
      "A348\tAT4G36920\t3/11/2013\tcama25\t12\n",
      "\n",
      "B3334\tAT3G54340\t1/12/2014\tcama18\t22\n",
      "\n",
      "A51\tAT1G30950\t9/2/2013\tcama25\t5\n",
      "\n",
      "B52\tAT5G20240\t8/11/2012\tcama16\t7\n",
      "\n"
     ]
    },
    {
     "data": {
      "text/plain": [
       "[[\"Seed_Stock\", \"Mutant_Gene_ID\", \"Last_Planted\", \"Storage\", \"Grams_Remaining\"], [\"A334\", \"AT1G69120\", \"5/7/2014\", \"cama2\", \"28\"], [\"A348\", \"AT4G36920\", \"3/11/2013\", \"cama25\", \"12\"], [\"B3334\", \"AT3G54340\", \"1/12/2014\", \"cama18\", \"22\"], [\"A51\", \"AT1G30950\", \"9/2/2013\", \"cama25\", \"5\"], [\"B52\", \"AT5G20240\", \"8/11/2012\", \"cama16\", \"7\"]]"
      ]
     },
     "execution_count": 19,
     "metadata": {},
     "output_type": "execute_result"
    }
   ],
   "source": [
    "File.open('seed_stock_data.tsv').each do |stock|\n",
    "  puts stock\n",
    "end\n",
    "# array = ARGV\n",
    "stock = []\n",
    "# Convert the file into an array\n",
    "require 'csv'\n",
    "CSV.open('seed_stock_data.tsv',\"r\", {col_sep:\"\\t\"}).each do |stock1|\n",
    "stock << stock1\n",
    "end\n",
    "\n",
    "stock"
   ]
  },
  {
   "cell_type": "code",
   "execution_count": 20,
   "metadata": {},
   "outputs": [
    {
     "data": {
      "text/plain": [
       ":planting_seeds"
      ]
     },
     "execution_count": 20,
     "metadata": {},
     "output_type": "execute_result"
    }
   ],
   "source": [
    "# Creating and defining the class \"Stock\"\n",
    "class Stock\n",
    "\n",
    "  attr_accessor :seed_ID  \n",
    "  attr_accessor :mutant_ID\n",
    "  attr_accessor :last_planted\n",
    "  attr_accessor :storage\n",
    "  attr_accessor :grams\n",
    "  \n",
    "  def initialize (params = {})\n",
    "    @seed_ID = params.fetch(:seed_ID, \"00000\")\n",
    "    @mutant_ID = params.fetch(:mutant_ID, \"000000000\")\n",
    "    @last_planted = params.fetch(:last_planted, \"00/00/0000\")\n",
    "    @storage = params.fetch(:storage, 'unknown place')\n",
    "    @grams = params.fetch(:grams, \"0\")\n",
    "  \n",
    "  end\n",
    "    # Defining the function to plant 7 grams of seeds and update the date and the grams of stock into a new file\n",
    "    def planting_seeds(grams_of_seed)\n",
    "      before_planting = grams\n",
    "    if before_planting == 0\n",
    "       puts \"There is no stock of #{seed_ID}\"\n",
    "    else\n",
    "      last_planted = Date.today\n",
    "      remain = grams.to_i - grams_of_seed\n",
    "            if remain <= 0\n",
    "        remain = 0\n",
    "        puts \"WARNING: We planted #{before_planting} grams of #{seed_ID}, but we have run out of stock!\"\n",
    "      else \n",
    "      end\n",
    "    end\n",
    "  File.open(\"updated_db.tsv\", \"a\"){\n",
    "    |f| f.write(\"\\r\\n#{seed_ID}\\t#{mutant_ID}\\t#{last_planted}\\t#{storage}\\t#{remain}\\t\")\n",
    "    }\n",
    "  end\n",
    "end"
   ]
  },
  {
   "cell_type": "code",
   "execution_count": 21,
   "metadata": {},
   "outputs": [
    {
     "name": "stdout",
     "output_type": "stream",
     "text": [
      "\n"
     ]
    }
   ],
   "source": [
    "# Writing the headers of the updated database file\n",
    "File.write(\"updated_db.tsv\", \n",
    "  [\"Seed_Stock\", \"Mutant_Gene_ID\", \"Last_Planted\", \"Storage\", \"Grams_Remaining\"].join(\"\\t\"))\n",
    "puts \"\""
   ]
  },
  {
   "cell_type": "code",
   "execution_count": 22,
   "metadata": {},
   "outputs": [
    {
     "name": "stdout",
     "output_type": "stream",
     "text": [
      "37\n",
      "37\n",
      "39\n",
      "WARNING: We planted 5 grams of A51, but we have run out of stock!\n",
      "36\n",
      "WARNING: We planted 7 grams of B52, but we have run out of stock!\n",
      "36\n"
     ]
    },
    {
     "data": {
      "text/plain": [
       "1..5"
      ]
     },
     "execution_count": 22,
     "metadata": {},
     "output_type": "execute_result"
    }
   ],
   "source": [
    "# Definig the values of the Stock class and runing the function planting seeds\n",
    "for i in (1..5)\n",
    "  plants = Stock.new(\n",
    "    :seed_ID => stock[i][0], \n",
    "    :mutant_ID => stock[i][1], \n",
    "    :last_planted => stock[i][2], \n",
    "    :storage => stock[i][3], \n",
    "    :grams => stock[i][4]\n",
    "    )\n",
    "  puts plants.planting_seeds(7)\n",
    "end"
   ]
  },
  {
   "cell_type": "markdown",
   "metadata": {},
   "source": [
    "**Task 2**\n",
    "\n",
    "Process the information in cross_data.tsv and determine which genes are\n",
    "genetically-linked. To achieve this, you will have to do a Chi-square test\n",
    "on the F2 cross data. If you discover genes that are linked, this information\n",
    "should be added as a property of each of the genes (they are both linked to each\n",
    "other)."
   ]
  },
  {
   "cell_type": "code",
   "execution_count": 23,
   "metadata": {},
   "outputs": [
    {
     "name": "stdout",
     "output_type": "stream",
     "text": [
      "Parent1\tParent2\tF2_Wild\tF2_P1\tF2_P2\tF2_P1P2\n",
      "\n",
      "A334\tA348\t110\t33\t38\t11\n",
      "\n",
      "A348\tB3334\t80\t26\t29\t8\n",
      "\n",
      "B3334\tA51\t99\t36\t34\t12\n",
      "\n",
      "A51\tB52\t152\t26\t22\t2\n",
      "\n",
      "B52\tA334\t75\t22\t30\t7\n",
      "\n"
     ]
    },
    {
     "data": {
      "text/plain": [
       "[[\"Parent1\", \"Parent2\", \"F2_Wild\", \"F2_P1\", \"F2_P2\", \"F2_P1P2\"], [\"A334\", \"A348\", \"110\", \"33\", \"38\", \"11\"], [\"A348\", \"B3334\", \"80\", \"26\", \"29\", \"8\"], [\"B3334\", \"A51\", \"99\", \"36\", \"34\", \"12\"], [\"A51\", \"B52\", \"152\", \"26\", \"22\", \"2\"], [\"B52\", \"A334\", \"75\", \"22\", \"30\", \"7\"]]"
      ]
     },
     "execution_count": 23,
     "metadata": {},
     "output_type": "execute_result"
    }
   ],
   "source": [
    "# Convert the file into an array\n",
    "File.open('cross_data.tsv').each do |cross|\n",
    "  puts cross\n",
    "end\n",
    "cross = []\n",
    "require 'csv'\n",
    "CSV.open('cross_data.tsv',\"r\", {col_sep:\"\\t\"}).each do |cross1|\n",
    "cross << cross1\n",
    "end\n",
    "cross"
   ]
  },
  {
   "cell_type": "code",
   "execution_count": 24,
   "metadata": {},
   "outputs": [
    {
     "name": "stdout",
     "output_type": "stream",
     "text": [
      "Gene_ID\tGene_name\tmutant_phenotype\n",
      "\n",
      "AT1G69120\tap1\t\"meristems replace first and second whorl\"\n",
      "\n",
      "AT4G36920\tap2\t\"first whorl carpels, second whorl stamens\"\n",
      "\n",
      "AT3G54340\tap3\t\"second whorl sepals, third whorl carpels\"\n",
      "\n",
      "AT1G30950\tufo\t\"second whorl sepaloidy, third whorl missing or carpeloid\"\n",
      "\n",
      "AT5G20240\tpi\t\"second whorl sepals, third whorl carpels\"\n",
      "\n"
     ]
    },
    {
     "data": {
      "text/plain": [
       "[[\"Gene_ID\", \"Gene_name\", \"mutant_phenotype\"], [\"AT1G69120\", \"ap1\", \"meristems replace first and second whorl\"], [\"AT4G36920\", \"ap2\", \"first whorl carpels, second whorl stamens\"], [\"AT3G54340\", \"ap3\", \"second whorl sepals, third whorl carpels\"], [\"AT1G30950\", \"ufo\", \"second whorl sepaloidy, third whorl missing or carpeloid\"], [\"AT5G20240\", \"pi\", \"second whorl sepals, third whorl carpels\"]]"
      ]
     },
     "execution_count": 24,
     "metadata": {},
     "output_type": "execute_result"
    }
   ],
   "source": [
    "# Convert the file into an array\n",
    "File.open('gene_information.tsv').each do |gene|\n",
    "  puts gene\n",
    "end\n",
    "gene = []\n",
    "require 'csv'\n",
    "CSV.open(\"gene_information.tsv\",\"r\", {col_sep:\"\\t\"}).each do |gene1|\n",
    "gene << gene1\n",
    "end\n",
    "gene"
   ]
  },
  {
   "cell_type": "code",
   "execution_count": 25,
   "metadata": {},
   "outputs": [
    {
     "data": {
      "text/plain": [
       ":chisq"
      ]
     },
     "execution_count": 25,
     "metadata": {},
     "output_type": "execute_result"
    }
   ],
   "source": [
    "# Creating and defining the Cross class\n",
    "class Cross < Stock\n",
    "\n",
    "  attr_accessor :parent1  \n",
    "  attr_accessor :parent2\n",
    "  attr_accessor :f2_wild\n",
    "  attr_accessor :f2_p1\n",
    "  attr_accessor :f2_p2\n",
    "  attr_accessor :f2_p1p2\n",
    "  #attr_accessor :linkage\n",
    "  \n",
    "  def initialize (params = {})\n",
    "    super(params)\n",
    "    @parent1 = params.fetch(:parent1, \"00000\")\n",
    "    @parent2 = params.fetch(:parent2, \"00000\")\n",
    "    @f2_wild = params.fetch(:f2_wild, \"0\")\n",
    "    @f2_p1 = params.fetch(:f2_p1, \"0\")\n",
    "    @f2_p2 = params.fetch(:f2_p2, \"0\")\n",
    "    @f2_p1p2 = params.fetch(:f2_p1p2, \"0\")\n",
    "  end\n",
    "  \n",
    "  def chisq (gene_name, gene2)\n",
    "     super f2_wild, f2_p1, f2_p2, f2_p1p2, gene_name, gene2\n",
    "  end\n",
    "    \n",
    "  # Defining the function chisquare to check if the genes are linked or not \n",
    "  def chisq f2_wild = 0, f2_p1 = 0, f2_p2 = 0, f2_p1p2 = 0, gene_name = 0, gene2 = 0\n",
    "    #link = Gene.new\n",
    "    total = f2_wild.to_f + f2_p1.to_f + f2_p2.to_f + f2_p1p2.to_f\n",
    "    wild_exp = total*9/16\n",
    "    p1_exp = total*3/16\n",
    "    p2_exp = total*3/16\n",
    "    p1p2_exp = total*1/16\n",
    "    sum = ((f2_wild.to_f - wild_exp.to_f)**2/wild_exp.to_f) + ((f2_p1.to_f - p1_exp.to_f)**2/p1_exp.to_f) +((f2_p2.to_f - p2_exp.to_f)**2/p2_exp.to_f) + ((f2_p1p2.to_f - p1p2_exp.to_f)**2/p1p2_exp.to_f)\n",
    "    if sum <= 7.815\n",
    "      #link.linkage << \"\"\n",
    "    else \n",
    "      puts \"The genes #{parent1} and #{parent2} are linked with a chisquare score of #{sum}\"\n",
    "      #if gene_ID == gene1\n",
    "        #link.linkage << \"#{gene1} is linked to #{gene2}\"\n",
    "      #end  \n",
    "      #if gene_ID == gene2\n",
    "        #link.linkage << \"#{gene2} is linked to #{gene1}\"\n",
    "      #end\n",
    "      #puts Gene.linkage\n",
    "    end\n",
    "    end\n",
    "  end\n"
   ]
  },
  {
   "cell_type": "code",
   "execution_count": 26,
   "metadata": {},
   "outputs": [
    {
     "data": {
      "text/plain": [
       ":chisq"
      ]
     },
     "execution_count": 26,
     "metadata": {},
     "output_type": "execute_result"
    }
   ],
   "source": [
    "  class Gene < Cross\n",
    "\n",
    "  attr_accessor :gene_ID  \n",
    "  attr_accessor :gene_name\n",
    "  attr_accessor :phenotype\n",
    "  #attr_accessor :linkage\n",
    "  \n",
    "  def initialize (params = {})\n",
    "    super(params)\n",
    "    @gene_ID = params.fetch(:gene_ID, \"000000000\")\n",
    "    @gene_name = params.fetch(:gene_name, \"000\")\n",
    "    @phenotype = params.fetch(:phenotype, 'Some phenotype')\n",
    "    #@linkage = params.fetch(:linkage, [])\n",
    "  end\n",
    "  def chisq \n",
    "    super gene_name\n",
    "  end\n",
    "  end"
   ]
  },
  {
   "cell_type": "code",
   "execution_count": null,
   "metadata": {},
   "outputs": [
    {
     "name": "stdout",
     "output_type": "stream",
     "text": [
      "The genes A334 and A348 are linked with a chisquare score of NaN\n",
      "The genes A348 and B3334 are linked with a chisquare score of NaN\n",
      "The genes B3334 and A51 are linked with a chisquare score of NaN\n",
      "The genes A51 and B52 are linked with a chisquare score of NaN\n"
     ]
    },
    {
     "ename": "NoMethodError",
     "evalue": "undefined method `[]' for nil:NilClass",
     "output_type": "error",
     "traceback": [
      "\u001b[31mNoMethodError\u001b[0m: undefined method `[]' for nil:NilClass",
      "(pry):647:in `block in <main>'",
      "(pry):625:in `each'",
      "(pry):625:in `<main>'",
      "/var/lib/gems/2.5.0/gems/pry-0.13.1/lib/pry/pry_instance.rb:290:in `eval'",
      "/var/lib/gems/2.5.0/gems/pry-0.13.1/lib/pry/pry_instance.rb:290:in `evaluate_ruby'",
      "/var/lib/gems/2.5.0/gems/pry-0.13.1/lib/pry/pry_instance.rb:659:in `handle_line'",
      "/var/lib/gems/2.5.0/gems/pry-0.13.1/lib/pry/pry_instance.rb:261:in `block (2 levels) in eval'",
      "/var/lib/gems/2.5.0/gems/pry-0.13.1/lib/pry/pry_instance.rb:260:in `catch'",
      "/var/lib/gems/2.5.0/gems/pry-0.13.1/lib/pry/pry_instance.rb:260:in `block in eval'",
      "/var/lib/gems/2.5.0/gems/pry-0.13.1/lib/pry/pry_instance.rb:259:in `catch'",
      "/var/lib/gems/2.5.0/gems/pry-0.13.1/lib/pry/pry_instance.rb:259:in `eval'",
      "/var/lib/gems/2.5.0/gems/iruby-0.4.0/lib/iruby/backend.rb:66:in `eval'",
      "/var/lib/gems/2.5.0/gems/iruby-0.4.0/lib/iruby/backend.rb:12:in `eval'",
      "/var/lib/gems/2.5.0/gems/iruby-0.4.0/lib/iruby/kernel.rb:90:in `execute_request'",
      "/var/lib/gems/2.5.0/gems/iruby-0.4.0/lib/iruby/kernel.rb:49:in `dispatch'",
      "/var/lib/gems/2.5.0/gems/iruby-0.4.0/lib/iruby/kernel.rb:38:in `run'",
      "/var/lib/gems/2.5.0/gems/iruby-0.4.0/lib/iruby/command.rb:110:in `run_kernel'",
      "/var/lib/gems/2.5.0/gems/iruby-0.4.0/lib/iruby/command.rb:40:in `run'",
      "/var/lib/gems/2.5.0/gems/iruby-0.4.0/bin/iruby:5:in `<main>'"
     ]
    }
   ],
   "source": [
    "# Defining the values of the diferent properties of the class and runnig the chisquare function \n",
    "for i in (1..5)\n",
    "  hibrid = Cross.new(\n",
    "    :parent1 => cross[i][0], \n",
    "    :parent2 => cross[i][1], \n",
    "    :f2_wild => cross[i][2], \n",
    "    :f2_p1 => cross[i][3], \n",
    "    :f2_p2 => cross[i][4],\n",
    "    :f2_p1p2 => cross[i][5]\n",
    "    )\n",
    "  \n",
    "  gene_info = Gene.new(\n",
    "    :gene_ID => gene[i][0],\n",
    "    :gene_name => gene[i][1],\n",
    "    :phenotype => gene[i][2],\n",
    "    )\n",
    "  \n",
    "  #gene1 = gene[i][1]\n",
    "\n",
    "  if i == 4\n",
    "    gene2 = gene[1][1]\n",
    "  else\n",
    "    i = i + 1\n",
    "    gene2 = gene[i][1]\n",
    "  end\n",
    "  \n",
    "  hibrid.chisq(gene_info.gene_name, gene2)\n",
    "  \n",
    "end"
   ]
  },
  {
   "cell_type": "code",
   "execution_count": null,
   "metadata": {},
   "outputs": [],
   "source": []
  },
  {
   "cell_type": "markdown",
   "metadata": {},
   "source": [
    "I adapted the way of bulding and linking the classes from the user \"andreaalvarezp\" in GitHub."
   ]
  }
 ],
 "metadata": {
  "kernelspec": {
   "display_name": "Ruby 2.5.1",
   "language": "ruby",
   "name": "ruby"
  },
  "language_info": {
   "file_extension": ".rb",
   "mimetype": "application/x-ruby",
   "name": "ruby",
   "version": "2.5.1"
  }
 },
 "nbformat": 4,
 "nbformat_minor": 2
}
