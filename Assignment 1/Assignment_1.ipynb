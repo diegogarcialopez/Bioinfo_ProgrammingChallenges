{
 "cells": [
  {
   "cell_type": "markdown",
   "metadata": {},
   "source": [
    "# Assignment 1"
   ]
  },
  {
   "cell_type": "markdown",
   "metadata": {},
   "source": [
    "There are three tab-delimited data files:\n",
    "\n",
    "1. seed_stock_data.tsv\n",
    "\n",
    "2. gene_information.tsv\n",
    "\n",
    "3. cross_data.tsv\n",
    "\n",
    "\n",
    "#1 contains information about seeds in your genebank\n",
    "\n",
    "#2 contains information about genes\n",
    "\n",
    "#3 contains information about the crosses you have made\n",
    "\n",
    "Each file begins with a heading line, followed by lines of data"
   ]
  },
  {
   "cell_type": "markdown",
   "metadata": {},
   "source": [
    "**Task 1**\n",
    "\n",
    "\"Simulate\" planting 7 grams of seeds from each of the records in the seed stock genebank\n",
    "then you should update the genebank information to show the new quantity of seeds\n",
    "that remain after a planting. The new state of the genebank\n",
    "should be printed to a new file, using exactly the same format as the\n",
    "original file seed_stock_data.tsv\n",
    "\n",
    "-- if the amount of seed is reduced to zero or less than zero, then\n",
    "a friendly warning message should appear on the screen. The amount\n",
    "of seed left in the gene bank is, of course, not LESS than zero \n"
   ]
  },
  {
   "cell_type": "code",
   "execution_count": null,
   "metadata": {},
   "outputs": [],
   "source": []
  },
  {
   "cell_type": "markdown",
   "metadata": {},
   "source": [
    "**Task 2**\n",
    "\n",
    "Process the information in cross_data.tsv and determine which genes are\n",
    "genetically-linked. To achieve this, you will have to do a Chi-square test\n",
    "on the F2 cross data. If you discover genes that are linked, this information\n",
    "should be added as a property of each of the genes (they are both linked to each\n",
    "other)."
   ]
  },
  {
   "cell_type": "code",
   "execution_count": null,
   "metadata": {},
   "outputs": [],
   "source": []
  },
  {
   "cell_type": "markdown",
   "metadata": {},
   "source": [
    "**BONUS SCORES**\n",
    "\n",
    "-> +1% if your Gene Object tests the format of the Gene Identifier and rejects incorrect formats without crashing\n",
    "\n",
    " Arabidopsis gene identifiers have the format /A[Tt]\\d[Gg]\\d\\d\\d\\d\\d/\n",
    "\n",
    "If the identifier isn't correct, then your code should stop with a helpful error message\n",
    "\n",
    "-> +1% if you create an Object that represents your entire Seed Stock \"database\"\n",
    "\n",
    "The object should have a #load_from_file($seed_stock_data.tsv)\n",
    "\n",
    "The object should access individual SeedStock objects based on their ID (e.g. StockDatabase.get_seed_stock('A334')\n",
    "\n",
    "The object should have a #write_database('new_stock_file.tsv')\n",
    "\n",
    "**To get these extra scores, your code needs to demonstrate that the functions really work!**"
   ]
  },
  {
   "cell_type": "code",
   "execution_count": null,
   "metadata": {},
   "outputs": [],
   "source": []
  }
 ],
 "metadata": {
  "kernelspec": {
   "display_name": "Ruby 2.5.1",
   "language": "ruby",
   "name": "ruby"
  },
  "language_info": {
   "file_extension": ".rb",
   "mimetype": "application/x-ruby",
   "name": "ruby",
   "version": "2.5.1"
  }
 },
 "nbformat": 4,
 "nbformat_minor": 2
}
