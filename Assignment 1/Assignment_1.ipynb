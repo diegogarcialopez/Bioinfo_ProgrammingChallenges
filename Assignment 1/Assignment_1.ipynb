{
 "cells": [
  {
   "cell_type": "markdown",
   "metadata": {},
   "source": [
    "# Assignment 1"
   ]
  },
  {
   "cell_type": "markdown",
   "metadata": {},
   "source": [
    "There are three tab-delimited data files:\n",
    "\n",
    "1. seed_stock_data.tsv\n",
    "\n",
    "2. gene_information.tsv\n",
    "\n",
    "3. cross_data.tsv\n",
    "\n",
    "\n",
    "#1 contains information about seeds in your genebank\n",
    "\n",
    "#2 contains information about genes\n",
    "\n",
    "#3 contains information about the crosses you have made\n",
    "\n",
    "Each file begins with a heading line, followed by lines of data"
   ]
  },
  {
   "cell_type": "markdown",
   "metadata": {},
   "source": [
    "**Task 1**\n",
    "\n",
    "\"Simulate\" planting 7 grams of seeds from each of the records in the seed stock genebank\n",
    "then you should update the genebank information to show the new quantity of seeds\n",
    "that remain after a planting. The new state of the genebank\n",
    "should be printed to a new file, using exactly the same format as the\n",
    "original file seed_stock_data.tsv\n",
    "\n",
    "-- if the amount of seed is reduced to zero or less than zero, then\n",
    "a friendly warning message should appear on the screen. The amount\n",
    "of seed left in the gene bank is, of course, not LESS than zero \n"
   ]
  },
  {
   "cell_type": "code",
   "execution_count": 565,
   "metadata": {},
   "outputs": [
    {
     "name": "stdout",
     "output_type": "stream",
     "text": [
      "Seed_Stock\tMutant_Gene_ID\tLast_Planted\tStorage\tGrams_Remaining\n",
      "\n",
      "A334\tAT1G69120\t5/7/2014\tcama2\t28\n",
      "\n",
      "A348\tAT4G36920\t3/11/2013\tcama25\t12\n",
      "\n",
      "B3334\tAT3G54340\t1/12/2014\tcama18\t22\n",
      "\n",
      "A51\tAT1G30950\t9/2/2013\tcama25\t5\n",
      "\n",
      "B52\tAT5G20240\t8/11/2012\tcama16\t7\n",
      "\n"
     ]
    },
    {
     "data": {
      "text/plain": [
       "[[\"Seed_Stock\", \"Mutant_Gene_ID\", \"Last_Planted\", \"Storage\", \"Grams_Remaining\"], [\"A334\", \"AT1G69120\", \"5/7/2014\", \"cama2\", \"28\"], [\"A348\", \"AT4G36920\", \"3/11/2013\", \"cama25\", \"12\"], [\"B3334\", \"AT3G54340\", \"1/12/2014\", \"cama18\", \"22\"], [\"A51\", \"AT1G30950\", \"9/2/2013\", \"cama25\", \"5\"], [\"B52\", \"AT5G20240\", \"8/11/2012\", \"cama16\", \"7\"]]"
      ]
     },
     "execution_count": 565,
     "metadata": {},
     "output_type": "execute_result"
    }
   ],
   "source": [
    "File.open('seed_stock_data.tsv').each do |stock|\n",
    "  puts stock\n",
    "end\n",
    "stock = []\n",
    "require 'csv'\n",
    "CSV.open(\"seed_stock_data.tsv\",\"r\", {col_sep:\"\\t\"}).each do |stock1|\n",
    "stock << stock1\n",
    "end\n",
    "stock"
   ]
  },
  {
   "cell_type": "code",
   "execution_count": 588,
   "metadata": {},
   "outputs": [
    {
     "data": {
      "text/plain": [
       ":planting_seeds"
      ]
     },
     "execution_count": 588,
     "metadata": {},
     "output_type": "execute_result"
    }
   ],
   "source": [
    "class Stock\n",
    "\n",
    "  attr_accessor :seed_ID  \n",
    "  attr_accessor :mutant_ID\n",
    "  attr_accessor :last_planted\n",
    "  attr_accessor :storage\n",
    "  attr_accessor :grams\n",
    "  \n",
    "  def initialize (params = {})\n",
    "    @seed_ID = params.fetch(:seed_ID, \"00000\")\n",
    "    @mutant_ID = params.fetch(:mutant_ID, \"000000000\")\n",
    "    @last_planted = params.fetch(:last_planted, \"00/00/0000\")\n",
    "    @storage = params.fetch(:storage, 'unknown place')\n",
    "    @grams = params.fetch(:grams, \"0\")\n",
    "  \n",
    "  end\n",
    "    \n",
    "    def planting_seeds(grams_of_seed)\n",
    "      before_planting = grams\n",
    "    if before_planting == 0\n",
    "       puts \"There is no stock of #{seed_ID}\"\n",
    "    else\n",
    "      last_planted = Date.today\n",
    "      remain = grams.to_i - grams_of_seed\n",
    "            if remain <= 0\n",
    "        remain = 0\n",
    "        puts \"We planted #{before_planting} grams of #{seed_ID}, but we have run out of stock!\"\n",
    "      else \n",
    "        puts \"We planted #{grams_of_seed} grams of #{seed_ID}.\"\n",
    "      end\n",
    "    end\n",
    "  File.open(\"updated_db.tsv\", \"a\"){\n",
    "    |f| f.write(\"\\r\\n#{seed_ID}\\t#{mutant_ID}\\t#{last_planted}\\t#{storage}\\t#{remain}\\t\")\n",
    "    }\n",
    "  end\n",
    "end"
   ]
  },
  {
   "cell_type": "code",
   "execution_count": 589,
   "metadata": {},
   "outputs": [
    {
     "name": "stdout",
     "output_type": "stream",
     "text": [
      "\n"
     ]
    }
   ],
   "source": [
    "File.write(\"updated_db.tsv\", \n",
    "  [\"Seed_Stock\", \"Mutant_Gene_ID\", \"Last_Planted\", \"Storage\", \"Grams_Remaining\"].join(\"\\t\"))\n",
    "puts \"\""
   ]
  },
  {
   "cell_type": "code",
   "execution_count": 590,
   "metadata": {},
   "outputs": [
    {
     "name": "stdout",
     "output_type": "stream",
     "text": [
      "We planted 7 grams of A334.\n",
      "37\n",
      "We planted 7 grams of A348.\n",
      "37\n",
      "We planted 7 grams of B3334.\n",
      "39\n",
      "We planted 5 grams of A51, but we have run out of stock!\n",
      "36\n",
      "We planted 7 grams of B52, but we have run out of stock!\n",
      "36\n"
     ]
    },
    {
     "data": {
      "text/plain": [
       "1..5"
      ]
     },
     "execution_count": 590,
     "metadata": {},
     "output_type": "execute_result"
    }
   ],
   "source": [
    "for i in (1..5)\n",
    "  plants = Stock.new(\n",
    "    :seed_ID => stock[i][0], \n",
    "    :mutant_ID => stock[i][1], \n",
    "    :last_planted => stock[i][2], \n",
    "    :storage => stock[i][3], \n",
    "    :grams => stock[i][4]\n",
    "    )\n",
    "  puts plants.planting_seeds(7)\n",
    "end"
   ]
  },
  {
   "cell_type": "markdown",
   "metadata": {},
   "source": [
    "**Task 2**\n",
    "\n",
    "Process the information in cross_data.tsv and determine which genes are\n",
    "genetically-linked. To achieve this, you will have to do a Chi-square test\n",
    "on the F2 cross data. If you discover genes that are linked, this information\n",
    "should be added as a property of each of the genes (they are both linked to each\n",
    "other)."
   ]
  },
  {
   "cell_type": "code",
   "execution_count": 467,
   "metadata": {},
   "outputs": [
    {
     "name": "stdout",
     "output_type": "stream",
     "text": [
      "Parent1\tParent2\tF2_Wild\tF2_P1\tF2_P2\tF2_P1P2\n",
      "\n",
      "A334\tA348\t110\t33\t38\t11\n",
      "\n",
      "A348\tB3334\t80\t26\t29\t8\n",
      "\n",
      "B3334\tA51\t99\t36\t34\t12\n",
      "\n",
      "A51\tB52\t152\t26\t22\t2\n",
      "\n",
      "B52\tA334\t75\t22\t30\t7\n",
      "\n"
     ]
    },
    {
     "data": {
      "text/plain": [
       "[[\"Parent1\", \"Parent2\", \"F2_Wild\", \"F2_P1\", \"F2_P2\", \"F2_P1P2\"], [\"A334\", \"A348\", \"110\", \"33\", \"38\", \"11\"], [\"A348\", \"B3334\", \"80\", \"26\", \"29\", \"8\"], [\"B3334\", \"A51\", \"99\", \"36\", \"34\", \"12\"], [\"A51\", \"B52\", \"152\", \"26\", \"22\", \"2\"], [\"B52\", \"A334\", \"75\", \"22\", \"30\", \"7\"]]"
      ]
     },
     "execution_count": 467,
     "metadata": {},
     "output_type": "execute_result"
    }
   ],
   "source": [
    "File.open('cross_data.tsv').each do |cross|\n",
    "  puts cross\n",
    "end\n",
    "cross = []\n",
    "require 'csv'\n",
    "CSV.open(\"cross_data.tsv\",\"r\", {col_sep:\"\\t\"}).each do |cross1|\n",
    "cross << cross1\n",
    "end\n",
    "cross"
   ]
  },
  {
   "cell_type": "code",
   "execution_count": 591,
   "metadata": {},
   "outputs": [
    {
     "data": {
      "text/plain": [
       ":chisq"
      ]
     },
     "execution_count": 591,
     "metadata": {},
     "output_type": "execute_result"
    }
   ],
   "source": [
    "class Cross\n",
    "\n",
    "  attr_accessor :parent1  \n",
    "  attr_accessor :parent2\n",
    "  attr_accessor :f2_wild\n",
    "  attr_accessor :f2_p1\n",
    "  attr_accessor :f2_p2\n",
    "  attr_accessor :f2_p1p2\n",
    "  attr_accessor :linkage\n",
    "  \n",
    "  def initialize (params = {})\n",
    "    @parent1 = params.fetch(:parent1, \"00000\")\n",
    "    @parent2 = params.fetch(:parent2, \"00000\")\n",
    "    @f2_wild = params.fetch(:f2_wild, \"0\")\n",
    "    @f2_p1 = params.fetch(:f2_p1, \"0\")\n",
    "    @f2_p2 = params.fetch(:f2_p2, \"0\")\n",
    "    @f2_p1p2 = params.fetch(:f2_p1p2, \"0\")\n",
    "    @linkage = params.fetch(:linkage, \"unknown\")\n",
    "  end\n",
    "  \n",
    "  def chisq (a)\n",
    "    total = f2_wild.to_f + f2_p1.to_f + f2_p2.to_f + f2_p1p2.to_f\n",
    "    wild_exp = total*9/16\n",
    "    p1_exp = total*3/16\n",
    "    p2_exp = total*3/16\n",
    "    p1p2_exp = total*1/16\n",
    "    sum = ((f2_wild.to_f - wild_exp.to_f)**2/wild_exp.to_f) + ((f2_p1.to_f - p1_exp.to_f)**2/p1_exp.to_f) +((f2_p2.to_f - p2_exp.to_f)**2/p2_exp.to_f) + ((f2_p1p2.to_f - p1p2_exp.to_f)**2/p1p2_exp.to_f)\n",
    "    if sum <= 7.815\n",
    "    else \n",
    "      puts \"The genes #{parent1} and #{parent2} are linked with a chisquare score of #{sum}\"\n",
    "      linking = Gene.new(:linkage => 'Yes')\n",
    "    end\n",
    "  end\n",
    "end"
   ]
  },
  {
   "cell_type": "code",
   "execution_count": 592,
   "metadata": {},
   "outputs": [
    {
     "name": "stdout",
     "output_type": "stream",
     "text": [
      "The genes A51 and B52 are linked with a chisquare score of 32.27942794279428\n"
     ]
    },
    {
     "data": {
      "text/plain": [
       "1..5"
      ]
     },
     "execution_count": 592,
     "metadata": {},
     "output_type": "execute_result"
    }
   ],
   "source": [
    "for i in (1..5)\n",
    "  hibrid = Cross.new(\n",
    "    :parent1 => cross[i][0], \n",
    "    :parent2 => cross[i][1], \n",
    "    :f2_wild => cross[i][2], \n",
    "    :f2_p1 => cross[i][3], \n",
    "    :f2_p2 => cross[i][4],\n",
    "    :f2_p1p2 => cross[i][5]\n",
    "    )\n",
    "  hibrid.chisq(a)\n",
    "end"
   ]
  },
  {
   "cell_type": "code",
   "execution_count": null,
   "metadata": {},
   "outputs": [],
   "source": []
  },
  {
   "cell_type": "markdown",
   "metadata": {},
   "source": [
    "**BONUS SCORES**\n",
    "\n",
    "-> +1% if your Gene Object tests the format of the Gene Identifier and rejects incorrect formats without crashing\n",
    "\n",
    " Arabidopsis gene identifiers have the format /A[Tt]\\d[Gg]\\d\\d\\d\\d\\d/\n",
    "\n",
    "If the identifier isn't correct, then your code should stop with a helpful error message\n",
    "\n",
    "-> +1% if you create an Object that represents your entire Seed Stock \"database\"\n",
    "\n",
    "The object should have a #load_from_file($seed_stock_data.tsv)\n",
    "\n",
    "The object should access individual SeedStock objects based on their ID (e.g. StockDatabase.get_seed_stock('A334')\n",
    "\n",
    "The object should have a #write_database('new_stock_file.tsv')\n",
    "\n",
    "**To get these extra scores, your code needs to demonstrate that the functions really work!**"
   ]
  },
  {
   "cell_type": "code",
   "execution_count": null,
   "metadata": {},
   "outputs": [],
   "source": []
  }
 ],
 "metadata": {
  "kernelspec": {
   "display_name": "Ruby 2.5.1",
   "language": "ruby",
   "name": "ruby"
  },
  "language_info": {
   "file_extension": ".rb",
   "mimetype": "application/x-ruby",
   "name": "ruby",
   "version": "2.5.1"
  }
 },
 "nbformat": 4,
 "nbformat_minor": 2
}
