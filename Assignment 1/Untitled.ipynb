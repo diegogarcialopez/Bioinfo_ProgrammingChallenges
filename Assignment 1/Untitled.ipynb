{
 "cells": [
  {
   "cell_type": "code",
   "execution_count": null,
   "metadata": {},
   "outputs": [],
   "source": [
    "class Gene\n",
    "\n",
    "  attr_accessor :gen_ID  \n",
    "  attr_accessor :gen_name\n",
    "  attr_accessor :phenotype\n",
    "  \n",
    "  def initialize (params = {})\n",
    "    @gen_ID = params.fetch(:gen_ID, \"000000000\")\n",
    "    @gen_name = params.fetch(:gen_name, \"000\")\n",
    "    @phenotype = params.fetch(:phenotype, 'Some phenotype')\n",
    "\n",
    "  end\n",
    "end"
   ]
  },
  {
   "cell_type": "code",
   "execution_count": null,
   "metadata": {},
   "outputs": [],
   "source": [
    "class Cross\n",
    "\n",
    "  attr_accessor :parent1  \n",
    "  attr_accessor :parent2\n",
    "  attr_accessor :f2_wild\n",
    "  attr_accessor :f2_p1\n",
    "  attr_accessor :f2_p2\n",
    "  attr_accessor :f2_p1p2\n",
    "  \n",
    "  def initialize (params = {})\n",
    "    @parent1 = params.fetch(:parent1, \"00000\")\n",
    "    @gparent2 = params.fetch(:parent2, \"00000\")\n",
    "    @f2_wild = params.fetch(:f2_wild, \"0\")\n",
    "    @f2_p2 = params.fetch(:f2_p2, \"0\")\n",
    "    @f2_p1p2 = params.fetch(:f2_p1p2, \"0\")\n",
    "\n",
    "  end\n",
    "end"
   ]
  },
  {
   "cell_type": "code",
   "execution_count": null,
   "metadata": {},
   "outputs": [],
   "source": [
    "def planting_seeds (grams_of_seed)\n",
    "  before_planting = stock_remaining\n",
    "  if before_planting == 0\n",
    "    puts \"There is no stock of #{seed_ID}\"\n",
    "  else\n",
    "    last_planted = Date.today\n",
    "    stock_remaining = stock_remaining - grams_of_seed.to_i\n",
    "    if stock_remaining <= 0\n",
    "      puts \"We planted #{before_planting} grams of #{seed_ID}, but we have run out of stock\"\n",
    "      File.open(\"updated_db.tsv\", \"a\"){|f| f.write(\"\\r\\n#{seed_ID}\\t#{mutant_ID}\\t#{last_plated}\\t#{storage}\\t#{stock_remaining}\\t\")}\n",
    "    else \n",
    "      puts \"We planted #{grams_of_seed} grams of #{seed_ID}\"\n",
    "      File.open(\"updated_db.tsv\", \"a\"){|f| f.write(\"\\r\\n#{seed_ID}\\t#{mutant_ID}\\t#{last_plated}\\t#{storage}\\t#{stock_remaining}\\t\")}\n",
    "    end\n",
    "  end\n",
    "end"
   ]
  },
  {
   "cell_type": "code",
   "execution_count": 165,
   "metadata": {},
   "outputs": [
    {
     "name": "stdout",
     "output_type": "stream",
     "text": [
      "Parent1\tParent2\tF2_Wild\tF2_P1\tF2_P2\tF2_P1P2\n",
      "\n",
      "A334\tA348\t110\t33\t38\t11\n",
      "\n",
      "A348\tB3334\t80\t26\t29\t8\n",
      "\n",
      "B3334\tA51\t99\t36\t34\t12\n",
      "\n",
      "A51\tB52\t152\t26\t22\t2\n",
      "\n",
      "B52\tA334\t75\t22\t30\t7\n",
      "\n"
     ]
    },
    {
     "data": {
      "text/plain": [
       "#<File:cross_data.tsv>"
      ]
     },
     "execution_count": 165,
     "metadata": {},
     "output_type": "execute_result"
    }
   ],
   "source": [
    "File.open('cross_data.tsv').each do |cross|\n",
    "#a = Array.new(cross)\n",
    "  puts cross\n",
    "  \n",
    "end\n"
   ]
  },
  {
   "cell_type": "code",
   "execution_count": null,
   "metadata": {},
   "outputs": [
    {
     "name": "stdout",
     "output_type": "stream",
     "text": [
      "Parent1\tParent2\tF2_Wild\tF2_P1\tF2_P2\tF2_P1P2\n",
      "\n",
      "A334\tA348\t110\t33\t38\t11\n",
      "\n",
      "A348\tB3334\t80\t26\t29\t8\n",
      "\n",
      "B3334\tA51\t99\t36\t34\t12\n",
      "\n",
      "A51\tB52\t152\t26\t22\t2\n",
      "\n",
      "B52\tA334\t75\t22\t30\t7\n",
      "\n"
     ]
    },
    {
     "ename": "NameError",
     "evalue": "undefined local variable or method `juan' for main:Object",
     "output_type": "error",
     "traceback": [
      "\u001b[31mNameError\u001b[0m: undefined local variable or method `juan' for main:Object",
      "(pry):1839:in `<main>'",
      "/var/lib/gems/2.5.0/gems/pry-0.13.1/lib/pry/pry_instance.rb:290:in `eval'",
      "/var/lib/gems/2.5.0/gems/pry-0.13.1/lib/pry/pry_instance.rb:290:in `evaluate_ruby'",
      "/var/lib/gems/2.5.0/gems/pry-0.13.1/lib/pry/pry_instance.rb:659:in `handle_line'",
      "/var/lib/gems/2.5.0/gems/pry-0.13.1/lib/pry/pry_instance.rb:261:in `block (2 levels) in eval'",
      "/var/lib/gems/2.5.0/gems/pry-0.13.1/lib/pry/pry_instance.rb:260:in `catch'",
      "/var/lib/gems/2.5.0/gems/pry-0.13.1/lib/pry/pry_instance.rb:260:in `block in eval'",
      "/var/lib/gems/2.5.0/gems/pry-0.13.1/lib/pry/pry_instance.rb:259:in `catch'",
      "/var/lib/gems/2.5.0/gems/pry-0.13.1/lib/pry/pry_instance.rb:259:in `eval'",
      "/var/lib/gems/2.5.0/gems/iruby-0.4.0/lib/iruby/backend.rb:66:in `eval'",
      "/var/lib/gems/2.5.0/gems/iruby-0.4.0/lib/iruby/backend.rb:12:in `eval'",
      "/var/lib/gems/2.5.0/gems/iruby-0.4.0/lib/iruby/kernel.rb:90:in `execute_request'",
      "/var/lib/gems/2.5.0/gems/iruby-0.4.0/lib/iruby/kernel.rb:49:in `dispatch'",
      "/var/lib/gems/2.5.0/gems/iruby-0.4.0/lib/iruby/kernel.rb:38:in `run'",
      "/var/lib/gems/2.5.0/gems/iruby-0.4.0/lib/iruby/command.rb:110:in `run_kernel'",
      "/var/lib/gems/2.5.0/gems/iruby-0.4.0/lib/iruby/command.rb:40:in `run'",
      "/var/lib/gems/2.5.0/gems/iruby-0.4.0/bin/iruby:5:in `<main>'"
     ]
    }
   ],
   "source": [
    "juan_file = File.open('cross_data.tsv').each do |juan|\n",
    "puts juan\n",
    "end\n",
    "juan"
   ]
  },
  {
   "cell_type": "code",
   "execution_count": 332,
   "metadata": {},
   "outputs": [
    {
     "data": {
      "text/plain": [
       "[[\"Parent1\", \"Parent2\", \"F2_Wild\", \"F2_P1\", \"F2_P2\", \"F2_P1P2\"], [\"A334\", \"A348\", \"110\", \"33\", \"38\", \"11\"], [\"A348\", \"B3334\", \"80\", \"26\", \"29\", \"8\"], [\"B3334\", \"A51\", \"99\", \"36\", \"34\", \"12\"], [\"A51\", \"B52\", \"152\", \"26\", \"22\", \"2\"], [\"B52\", \"A334\", \"75\", \"22\", \"30\", \"7\"]]"
      ]
     },
     "execution_count": 332,
     "metadata": {},
     "output_type": "execute_result"
    }
   ],
   "source": [
    "cross  =[]\n",
    "require 'csv'\n",
    "CSV.open(\"cross_data.tsv\",\"r\", {col_sep:\"\\t\"}).each do |cross1|\n",
    "cross << cross1\n",
    "end\n",
    "cross"
   ]
  },
  {
   "cell_type": "code",
   "execution_count": 291,
   "metadata": {},
   "outputs": [
    {
     "data": {
      "text/plain": [
       "[\"Parent1\\tParent2\\tF2_Wild\\tF2_P1\\tF2_P2\\tF2_P1P2\\n\", \"A334\\tA348\\t110\\t33\\t38\\t11\\n\", \"A348\\tB3334\\t80\\t26\\t29\\t8\\n\", \"B3334\\tA51\\t99\\t36\\t34\\t12\\n\", \"A51\\tB52\\t152\\t26\\t22\\t2\\n\", \"B52\\tA334\\t75\\t22\\t30\\t7\\n\"]"
      ]
     },
     "execution_count": 291,
     "metadata": {},
     "output_type": "execute_result"
    }
   ],
   "source": [
    "s = IO.readlines(\"cross_data.tsv\"){\n",
    "  s.split(\"\\t\").each do |lines|\n",
    "  lines.chomp!\n",
    "  end}\n",
    "s"
   ]
  }
 ],
 "metadata": {
  "kernelspec": {
   "display_name": "Ruby 2.5.1",
   "language": "ruby",
   "name": "ruby"
  },
  "language_info": {
   "file_extension": ".rb",
   "mimetype": "application/x-ruby",
   "name": "ruby",
   "version": "2.5.1"
  }
 },
 "nbformat": 4,
 "nbformat_minor": 2
}
