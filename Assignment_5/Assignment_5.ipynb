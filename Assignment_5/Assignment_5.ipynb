{
 "cells": [
  {
   "cell_type": "markdown",
   "metadata": {},
   "source": [
    "## Assignment 5: SPARQL queries"
   ]
  },
  {
   "cell_type": "code",
   "execution_count": 1,
   "metadata": {},
   "outputs": [
    {
     "data": {
      "text/html": [
       "<div class=\"krn-spql\"><div class=\"magic\">Endpoint set to: https://sparql.uniprot.org/sparql</div><div class=\"magic\">Return format: JSON</div></div>"
      ],
      "text/plain": [
       "Endpoint set to: https://sparql.uniprot.org/sparql\n",
       "Return format: JSON\n"
      ]
     },
     "metadata": {},
     "output_type": "display_data"
    }
   ],
   "source": [
    "# Setting the endpoint in SPARQL Uniprot \n",
    "%endpoint https://sparql.uniprot.org/sparql \n",
    "# Setting the JSON format\n",
    "%format JSON                                "
   ]
  },
  {
   "cell_type": "markdown",
   "metadata": {},
   "source": [
    "Exercise 1: How many Arabidopsis thaliana protein records are in UniProt? "
   ]
  },
  {
   "cell_type": "code",
   "execution_count": 2,
   "metadata": {},
   "outputs": [
    {
     "data": {
      "text/html": [
       "<div class=\"krn-spql\"><table><tr class=hdr><th>number_of_proteins</th></tr><tr class=odd><td class=val>360157660</td></tr></table><div class=\"tinfo\">Total: 1, Shown: 1</div></div>"
      ]
     },
     "metadata": {},
     "output_type": "display_data"
    }
   ],
   "source": [
    "# Seting the prefix of SPARQL Uniprot\n",
    "PREFIX up:<http://purl.uniprot.org/core/>\n",
    "# Counting the number of ptrotein records\n",
    "SELECT (COUNT(?protein) as ?number_of_proteins)\n",
    "WHERE\n",
    "{\n",
    "    # Selecting all protein entries\n",
    "    ?protein a up:Protein .\n",
    "}"
   ]
  },
  {
   "cell_type": "markdown",
   "metadata": {},
   "source": [
    "Exercise 2: How many Arabidopsis thaliana protein records are in UniProt? "
   ]
  },
  {
   "cell_type": "code",
   "execution_count": 17,
   "metadata": {},
   "outputs": [
    {
     "data": {
      "text/html": [
       "<div class=\"krn-spql\"><table><tr class=hdr><th>number_of_proteins</th></tr><tr class=odd><td class=val>136782</td></tr></table><div class=\"tinfo\">Total: 1, Shown: 1</div></div>"
      ]
     },
     "metadata": {},
     "output_type": "display_data"
    }
   ],
   "source": [
    "PREFIX up:<http://purl.uniprot.org/core/>\n",
    "# Adding the taxon prefix\n",
    "PREFIX taxon: <http://purl.uniprot.org/taxonomy/>\n",
    "# Counting the number of ptrotein records\n",
    "SELECT (COUNT(?protein) as ?number_of_proteins)\n",
    "WHERE\n",
    "{\n",
    "    # Selecting the protein records of Arabidopsis thaliana by its taxon identifier\n",
    "    ?protein a up:Protein ;\n",
    "               up:organism taxon:3702 .\n",
    "}"
   ]
  },
  {
   "cell_type": "markdown",
   "metadata": {},
   "source": [
    "Exercise 3: Rretrieve pictures of Arabidopsis thaliana from UniProt"
   ]
  },
  {
   "cell_type": "code",
   "execution_count": 18,
   "metadata": {},
   "outputs": [
    {
     "data": {
      "text/html": [
       "<div class=\"krn-spql\"><table><tr class=hdr><th>link_to_picture</th></tr><tr class=odd><td class=val><a href=\"https://upload.wikimedia.org/wikipedia/commons/3/39/Arabidopsis.jpg\" target=\"_other\">https://upload.wikimedia.org/wikipedia/commons/3/39/Arabidopsis.jpg</a></td></tr><tr class=even><td class=val><a href=\"https://upload.wikimedia.org/wikipedia/commons/thumb/6/60/Arabidopsis_thaliana_inflorescencias.jpg/800px-Arabidopsis_thaliana_inflorescencias.jpg\" target=\"_other\">https://upload.wikimedia.org/wikipedia/commons/thumb/6/60/Arabidopsis_thaliana_inflorescencias.jpg/800px-Arabidopsis_thaliana_inflorescencias.jpg</a></td></tr></table><div class=\"tinfo\">Total: 2, Shown: 2</div></div>"
      ]
     },
     "metadata": {},
     "output_type": "display_data"
    }
   ],
   "source": [
    "PREFIX up: <http://purl.uniprot.org/core/>\n",
    "# Adding the prefix of Xmlns\n",
    "PREFIX foaf: <http://xmlns.com/foaf/0.1/>\n",
    "SELECT ?link_to_picture\n",
    "WHERE\n",
    "{\n",
    "    # Selecting the picture\n",
    "  ?taxon foaf:depiction ?link_to_picture .\n",
    "    # Filtering by 'Arabidopsis thaliana'\n",
    "  ?taxon up:scientificName \"Arabidopsis thaliana\" .\n",
    "}"
   ]
  },
  {
   "cell_type": "markdown",
   "metadata": {},
   "source": [
    "Exercise 4: What is the description of the enzyme activity of UniProt Protein Q9SZZ8 "
   ]
  },
  {
   "cell_type": "code",
   "execution_count": 19,
   "metadata": {},
   "outputs": [
    {
     "data": {
      "text/html": [
       "<div class=\"krn-spql\"><table><tr class=hdr><th>catalytic_activity</th></tr><tr class=odd><td class=val>Beta-carotene + 4 reduced ferredoxin [iron-sulfur] cluster + 2 H(+) + 2 O(2) = zeaxanthin + 4 oxidized ferredoxin [iron-sulfur] cluster + 2 H(2)O.</td></tr></table><div class=\"tinfo\">Total: 1, Shown: 1</div></div>"
      ]
     },
     "metadata": {},
     "output_type": "display_data"
    }
   ],
   "source": [
    "PREFIX up:<http://purl.uniprot.org/core/> \n",
    "# Adding the prefix of the main page of Uniprot\n",
    "PREFIX uniprot:<http://purl.uniprot.org/uniprot/> \n",
    "# Adding the world wide web consultorium\n",
    "PREFIX rdfs:<http://www.w3.org/2000/01/rdf-schema#> \n",
    "SELECT ?catalytic_activity\n",
    "WHERE\n",
    "{\n",
    "    # Selecting the Q9SZZ8 protein\n",
    "    uniprot:Q9SZZ8 a up:Protein ;\n",
    "        up:enzyme ?enzyme.\n",
    "    # Selecting the molecular reaction involved in the catalytic activity of the protein\n",
    "    ?enzyme up:activity ?activity .\n",
    "        ?activity rdfs:label ?catalytic_activity .\n",
    "}"
   ]
  },
  {
   "cell_type": "markdown",
   "metadata": {},
   "source": [
    "Exercise 5: Retrieve the proteins ids, and date of submission, for proteins that have been added to UniProt this year (HINT Google for “SPARQL FILTER by date”)"
   ]
  },
  {
   "cell_type": "code",
   "execution_count": 2,
   "metadata": {},
   "outputs": [
    {
     "data": {
      "text/html": [
       "<div class=\"krn-spql\"><table><tr class=hdr><th>id</th>\n",
       "<th>date_of_submission</th></tr><tr class=odd><td class=val>A0A1H7ADE3</td>\n",
       "<td class=val>2021-06-02</td></tr><tr class=even><td class=val>A0A1V1AIL4</td>\n",
       "<td class=val>2021-06-02</td></tr><tr class=odd><td class=val>A0A2Z0L603</td>\n",
       "<td class=val>2021-06-02</td></tr><tr class=even><td class=val>A0A4J5GG53</td>\n",
       "<td class=val>2021-04-07</td></tr><tr class=odd><td class=val>A0A6G8SU52</td>\n",
       "<td class=val>2021-02-10</td></tr><tr class=even><td class=val>A0A6G8SU69</td>\n",
       "<td class=val>2021-02-10</td></tr><tr class=odd><td class=val>A0A7C9JLR7</td>\n",
       "<td class=val>2021-02-10</td></tr><tr class=even><td class=val>A0A7C9JMZ7</td>\n",
       "<td class=val>2021-02-10</td></tr><tr class=odd><td class=val>A0A7C9KUQ4</td>\n",
       "<td class=val>2021-02-10</td></tr><tr class=even><td class=val>A0A7D4HP61</td>\n",
       "<td class=val>2021-02-10</td></tr><tr class=odd><td class=val>A0A7D6A5N9</td>\n",
       "<td class=val>2021-06-02</td></tr><tr class=even><td class=val>A0A7D6FMY9</td>\n",
       "<td class=val>2021-02-10</td></tr><tr class=odd><td class=val>A0A7D6VKU9</td>\n",
       "<td class=val>2021-02-10</td></tr><tr class=even><td class=val>A0A7D6VKZ9</td>\n",
       "<td class=val>2021-02-10</td></tr><tr class=odd><td class=val>A0A7D7EJU1</td>\n",
       "<td class=val>2021-02-10</td></tr><tr class=even><td class=val>A0A7D7HYH9</td>\n",
       "<td class=val>2021-02-10</td></tr><tr class=odd><td class=val>A0A7G5HK20</td>\n",
       "<td class=val>2021-02-10</td></tr><tr class=even><td class=val>A0A7G6B4J7</td>\n",
       "<td class=val>2021-02-10</td></tr><tr class=odd><td class=val>A0A7G6T9F2</td>\n",
       "<td class=val>2021-02-10</td></tr><tr class=even><td class=val>A0A7G7EDL3</td>\n",
       "<td class=val>2021-02-10</td></tr></table><div class=\"tinfo\">Total: 200, Shown: 20</div></div>"
      ]
     },
     "metadata": {},
     "output_type": "display_data"
    }
   ],
   "source": [
    "PREFIX up:<http://purl.uniprot.org/core/>\n",
    "PREFIX xsd:<http://www.w3.org/2001/XMLSchema#>\n",
    "SELECT ?id ?date_of_submission\n",
    "WHERE \n",
    "{ \n",
    "    ?protein a up:Protein ;\n",
    "        up:created ?date_of_submission .\n",
    "    # Filtering by date: 2021-01-01\n",
    "    FILTER ( ?date_of_submission >= \"2021-01-01\"^^xsd:date) .\n",
    "    # Converting URL of the protein entry into the protein ID\n",
    "    BIND (SUBSTR(STR(?protein),33) AS ?id) .\n",
    "} "
   ]
  },
  {
   "cell_type": "markdown",
   "metadata": {},
   "source": [
    "Exercise 6: How many species are in the UniProt taxonomy?"
   ]
  },
  {
   "cell_type": "code",
   "execution_count": 13,
   "metadata": {},
   "outputs": [
    {
     "data": {
      "text/html": [
       "<div class=\"krn-spql\"><table><tr class=hdr><th>uniprot_species</th></tr><tr class=odd><td class=val>2029846</td></tr></table><div class=\"tinfo\">Total: 1, Shown: 1</div></div>"
      ]
     },
     "metadata": {},
     "output_type": "display_data"
    }
   ],
   "source": [
    "PREFIX up:<http://purl.uniprot.org/core/>\n",
    "SELECT (COUNT(?taxon) AS ?uniprot_species)\n",
    "WHERE\n",
    "{\n",
    "    # Selecting all the species from the different taxons\n",
    "    ?taxon a up:Taxon ;\n",
    "             up:rank up:Species .\n",
    "}"
   ]
  },
  {
   "cell_type": "markdown",
   "metadata": {},
   "source": [
    "Exercise 7: How many species have at least one protein record? (this might take a long time to execute, so do this one last!)"
   ]
  },
  {
   "cell_type": "code",
   "execution_count": 14,
   "metadata": {},
   "outputs": [
    {
     "data": {
      "text/html": [
       "<div class=\"krn-spql\"><table><tr class=hdr><th>species_with_record</th></tr><tr class=odd><td class=val>1057158</td></tr></table><div class=\"tinfo\">Total: 1, Shown: 1</div></div>"
      ]
     },
     "metadata": {},
     "output_type": "display_data"
    }
   ],
   "source": [
    "PREFIX up: <http://purl.uniprot.org/core/>\n",
    "# Selecting only unique results\n",
    "SELECT (COUNT (DISTINCT ?taxon) AS ?species_with_record)\n",
    "WHERE\n",
    "{\n",
    "    # Selecting orgenisms with protein records\n",
    "  ?protein a up:Protein;\n",
    "           up:organism ?taxon .\n",
    "  ?taxon a up:Taxon;\n",
    "          up:rank up:Species .\n",
    "}"
   ]
  },
  {
   "cell_type": "markdown",
   "metadata": {},
   "source": [
    "Exercise 8: Find the AGI codes and gene names for all Arabidopsis thaliana  proteins that have a protein function annotation description that mentions “pattern formation”"
   ]
  },
  {
   "cell_type": "code",
   "execution_count": 2,
   "metadata": {},
   "outputs": [
    {
     "data": {
      "text/html": [
       "<div class=\"krn-spql\"><table><tr class=hdr><th>agi</th>\n",
       "<th>gene_name</th></tr><tr class=odd><td class=val>At3g54220</td>\n",
       "<td class=val>SCR</td></tr><tr class=even><td class=val>At4g21750</td>\n",
       "<td class=val>ATML1</td></tr><tr class=odd><td class=val>At1g13980</td>\n",
       "<td class=val>GN</td></tr><tr class=even><td class=val>At5g40260</td>\n",
       "<td class=val>SWEET8</td></tr><tr class=odd><td class=val>At1g69670</td>\n",
       "<td class=val>CUL3B</td></tr><tr class=even><td class=val>At1g63700</td>\n",
       "<td class=val>YDA</td></tr><tr class=odd><td class=val>At2g46710</td>\n",
       "<td class=val>ROPGAP3</td></tr><tr class=even><td class=val>At1g26830</td>\n",
       "<td class=val>CUL3A</td></tr><tr class=odd><td class=val>At1g55325</td>\n",
       "<td class=val>MED13</td></tr><tr class=even><td class=val>At3g09090</td>\n",
       "<td class=val>DEX1</td></tr><tr class=odd><td class=val>At4g37650</td>\n",
       "<td class=val>SHR</td></tr><tr class=even><td class=val>At5g55250</td>\n",
       "<td class=val>IAMT1</td></tr><tr class=odd><td class=val>At3g02130</td>\n",
       "<td class=val>RPK2</td></tr><tr class=even><td class=val>At2g42580</td>\n",
       "<td class=val>TTL3</td></tr><tr class=odd><td class=val>At1g69270</td>\n",
       "<td class=val>RPK1</td></tr><tr class=even><td class=val>At5g02010</td>\n",
       "<td class=val>ROPGEF7</td></tr><tr class=odd><td class=val>At1g66470</td>\n",
       "<td class=val>RHD6</td></tr><tr class=even><td class=val>At5g37800</td>\n",
       "<td class=val>RSL1</td></tr><tr class=odd><td class=val>At1g49770</td>\n",
       "<td class=val>BHLH95</td></tr></table><div class=\"tinfo\">Total: 19, Shown: 19</div></div>"
      ]
     },
     "metadata": {},
     "output_type": "display_data"
    }
   ],
   "source": [
    "PREFIX up: <http://purl.uniprot.org/core/>\n",
    "SELECT DISTINCT ?agi ?gene_name\n",
    "WHERE\n",
    "{\n",
    "    # Selecting annotations for Arabidopsis thaliana protein records\n",
    "    ?protein a up:Protein .\n",
    "    ?protein up:organism ?organism .\n",
    "    ?organism up:scientificName \"Arabidopsis thaliana\" .\n",
    "    ?protein up:encodedBy ?gene .\n",
    "    ?gene skos:prefLabel ?gene_name .\n",
    "    ?gene up:locusName ?agi .\n",
    "    ?protein up:annotation ?annotation .\n",
    "        ?annotation rdfs:comment ?functions .\n",
    "    # Searching for functions in which appears 'pattern formation'\n",
    "        FILTER (CONTAINS(?functions, \"pattern formation\"))\n",
    "}"
   ]
  },
  {
   "cell_type": "markdown",
   "metadata": {},
   "source": [
    "Exercise 9: What is the MetaNetX Reaction identifier (starts with “mnxr”) for the UniProt Protein uniprotkb:Q18A79?"
   ]
  },
  {
   "cell_type": "code",
   "execution_count": 5,
   "metadata": {},
   "outputs": [
    {
     "data": {
      "text/html": [
       "<div class=\"krn-spql\"><div class=\"magic\">Endpoint set to: https://rdf.metanetx.org/sparql</div><div class=\"magic\">Return format: JSON</div></div>"
      ],
      "text/plain": [
       "Endpoint set to: https://rdf.metanetx.org/sparql\n",
       "Return format: JSON\n"
      ]
     },
     "metadata": {},
     "output_type": "display_data"
    }
   ],
   "source": [
    "# Setting the endpoint in Metanex \n",
    "%endpoint https://rdf.metanetx.org/sparql\n",
    "# Setting the JSON format\n",
    "%format JSON"
   ]
  },
  {
   "cell_type": "code",
   "execution_count": 6,
   "metadata": {},
   "outputs": [
    {
     "data": {
      "text/html": [
       "<div class=\"krn-spql\"><table><tr class=hdr><th>metanex_id</th></tr><tr class=odd><td class=val>mnxr165934</td></tr><tr class=even><td class=val>mnxr145046c3</td></tr></table><div class=\"tinfo\">Total: 2, Shown: 2</div></div>"
      ]
     },
     "metadata": {},
     "output_type": "display_data"
    }
   ],
   "source": [
    "# Adding the prefix of Metanex\n",
    "PREFIX mnx: <https://rdf.metanetx.org/schema/>\n",
    "PREFIX up: <http://purl.uniprot.org/uniprot/>\n",
    "PREFIX rdfs: <http://www.w3.org/2000/01/rdf-schema#>\n",
    "SELECT DISTINCT ?metanex_id\n",
    "WHERE{\n",
    "    # Selecting Q18A79\n",
    "    ?pept mnx:peptXref up:Q18A79 .\n",
    "    # Getting the identifiers that corresponds to Q18A79\n",
    "    ?cata mnx:pept ?pept .\n",
    "    ?gpr mnx:cata ?cata ;\n",
    "         mnx:reac ?reac .\n",
    "    ?reac rdfs:label ?metanex_id .\n",
    "}"
   ]
  },
  {
   "cell_type": "markdown",
   "metadata": {},
   "source": [
    "Exercise 10: What is the official Gene ID (UniProt calls this a “mnemonic”) and the MetaNetX Reaction identifier (mnxr…) for the protein that has “Starch synthase” catalytic activity in Clostridium difficile (taxon 272563)?"
   ]
  },
  {
   "cell_type": "code",
   "execution_count": 7,
   "metadata": {},
   "outputs": [
    {
     "data": {
      "text/html": [
       "<div class=\"krn-spql\"><div class=\"magic\">Endpoint set to: https://sparql.uniprot.org/sparql</div><div class=\"magic\">Return format: JSON</div></div>"
      ],
      "text/plain": [
       "Endpoint set to: https://sparql.uniprot.org/sparql\n",
       "Return format: JSON\n"
      ]
     },
     "metadata": {},
     "output_type": "display_data"
    }
   ],
   "source": [
    "# Setting the endpoint in Uniprot \n",
    "%endpoint https://sparql.uniprot.org/sparql\n",
    "# Setting the JSON format\n",
    "%format JSON"
   ]
  },
  {
   "cell_type": "code",
   "execution_count": 10,
   "metadata": {},
   "outputs": [
    {
     "data": {
      "text/html": [
       "<div class=\"krn-spql\"><table><tr class=hdr><th>official_id</th>\n",
       "<th>metanex_id</th></tr><tr class=odd><td class=val>GLGA_CLOD6</td>\n",
       "<td class=val>mnxr165934</td></tr><tr class=even><td class=val>GLGA_CLOD6</td>\n",
       "<td class=val>mnxr145046c3</td></tr></table><div class=\"tinfo\">Total: 2, Shown: 2</div></div>"
      ]
     },
     "metadata": {},
     "output_type": "display_data"
    }
   ],
   "source": [
    "PREFIX mnx: <https://rdf.metanetx.org/schema/>\n",
    "PREFIX up:<http://purl.uniprot.org/core/> \n",
    "PREFIX rdfs: <http://www.w3.org/2000/01/rdf-schema#>\n",
    "PREFIX taxon: <http://purl.uniprot.org/taxonomy/>\n",
    "SELECT DISTINCT ?official_id ?metanex_id\n",
    "WHERE\n",
    "{\n",
    "    # Searching the protein in Uniprot with a GO Term that contains Starch synthase catalytic activity in C. difficile\n",
    "  service <http://sparql.uniprot.org/sparql> {\n",
    "    ?protein a up:Protein .\n",
    "    ?protein up:organism taxon:272563 .\n",
    "    ?protein up:mnemonic ?official_id .\n",
    "    ?protein up:classifiedWith ?go_term .\n",
    "    ?go_term rdfs:label ?activity .\n",
    "    FILTER contains(?activity, \"starch synthase\")\n",
    "    BIND (SUBSTR(STR(?protein),33) as ?ac)\n",
    "    BIND (IRI(CONCAT(\"http://purl.uniprot.org/uniprot/\",?ac)) as ?reference)\n",
    "  }\n",
    "  service <https://rdf.metanetx.org/sparql> {\n",
    "      # Getting the identifiers that corresponds to the protein with Starch synthase catalytic activity in C. difficile\n",
    "    ?pept mnx:peptXref ?reference .\n",
    "    ?cata mnx:pept ?pept .\n",
    "    ?gpr mnx:cata ?cata ;\n",
    "         mnx:reac ?reac .\n",
    "    ?reac rdfs:label ?metanex_id .\n",
    "  }\n",
    "} "
   ]
  },
  {
   "cell_type": "code",
   "execution_count": null,
   "metadata": {},
   "outputs": [],
   "source": []
  }
 ],
 "metadata": {
  "kernelspec": {
   "display_name": "SPARQL",
   "language": "sparql",
   "name": "sparql"
  },
  "language_info": {
   "codemirror_mode": {
    "name": "sparql"
   },
   "mimetype": "application/sparql-query",
   "name": "sparql",
   "pygments_lexer": "sparql-nb"
  }
 },
 "nbformat": 4,
 "nbformat_minor": 2
}
