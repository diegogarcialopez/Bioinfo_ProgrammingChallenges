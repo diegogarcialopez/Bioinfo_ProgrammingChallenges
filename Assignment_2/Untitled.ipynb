{
 "cells": [
  {
   "cell_type": "code",
   "execution_count": 5,
   "metadata": {},
   "outputs": [
    {
     "data": {
      "text/plain": [
       ":fetch"
      ]
     },
     "execution_count": 5,
     "metadata": {},
     "output_type": "execute_result"
    }
   ],
   "source": [
    " require 'rest-client'\n",
    "  def fetch(url, headers = {accept: \"*/*\"}, user = \"\", pass=\"\")\n",
    "  \n",
    "    response = RestClient::Request.execute({\n",
    "      method: :get,\n",
    "      url: url.to_s,\n",
    "      user: user,\n",
    "      password: pass,\n",
    "      headers: headers})\n",
    "\n",
    "  return response\n",
    "  \n",
    "  rescue RestClient::ExceptionWithResponse => e\n",
    "    $stderr.puts e.inspect\n",
    "    response = false\n",
    "    return response  \n",
    "  rescue RestClient::Exception => e\n",
    "    $stderr.puts e.inspect\n",
    "    response = false\n",
    "    return response  \n",
    "  rescue Exception => e\n",
    "    $stderr.puts e.inspect\n",
    "    response = false\n",
    "    return response  \n",
    "    \n",
    "end "
   ]
  },
  {
   "cell_type": "code",
   "execution_count": null,
   "metadata": {},
   "outputs": [],
   "source": [
    "class Interactions < Gene\n",
    "  "
   ]
  },
  {
   "cell_type": "code",
   "execution_count": null,
   "metadata": {},
   "outputs": [],
   "source": [
    "class Gene\n",
    "  \n",
    "  attr_accessor :gene_ID  \n",
    "  attr_accessor :interactions\n",
    "  #attr_accessor :go_ID\n",
    "  #attr_accessor :kegg_pathways\n",
    "  \n",
    "  def initialize (params = {})\n",
    "    \n",
    "    @gene_ID = params.fetch(:gene_ID, \"000000000\")\n",
    "    @interaction = params.fetch(:interactions, Array.new)\n",
    "    #@go_ID = params.fetch(:go_ID, \"00/00/0000\")\n",
    "    #@kegg_pathways = params.fetch(:kegg_pathways, 'unknown place')\n",
    "  end\n",
    "  \n",
    "  def search_interactions(some_gene)\n",
    "      link = fetch(\"http://bar.utoronto.ca:9090/psicquic/webservices/current/search/query/#{some_gene}\");\n",
    "      if link\n",
    "        body = link.to_s.split(\"\\n\")\n",
    "        body.each do |interaction|\n",
    "          line = interaction.split(\"\\t\")\n",
    "          agi1 = line[2].split(\":\")[1].upcase\n",
    "          agi2 = line[3].split(\":\")[1].upcase\n",
    "          tax1 = line[9].split(\":\")[1]\n",
    "          tax2 = line[10].split(\":\")[1]\n",
    "          score = line[14].split(\":\")[1]\n",
    "          if tax1.to_i != 3702 or tax2.to_i !=3702 # Filtering by species (Arabidopsis thaliana).\n",
    "            next\n",
    "          elsif score.to_f < 0.45 # Filtering by an intermediate score (DOI: 10.1093/database/bau131).\n",
    "            next\n",
    "          elsif some_gene.to_s == agi1.to_s && some_gene.to_s == agi2.to_s # Discarding interactions beteen the same gene.         \n",
    "            next\n",
    "          else\n",
    "            #interaction = OpenStruct.new\n",
    "            case\n",
    "            when agi1.to_s == some_gene.to_s\n",
    "              ggi = [some_gene, agi2]\n",
    "              puts some_gene\n",
    "              puts agi1\n",
    "              puts agi2\n",
    "              puts ggi\n",
    "              #puts agi1.to_s\n",
    "              #puts interaction.interactions\n",
    "              #search_interactions(agi2)\n",
    "            else\n",
    "              ggi = [some_gene, agi1]\n",
    "              puts some_gene\n",
    "              puts agi1\n",
    "              puts agi2\n",
    "              puts ggi\n",
    "              #puts interaction.interactions\n",
    "              #search_interactions(agi1) \n",
    "            end\n",
    "            #interaction.interactions << ggi\n",
    "          end\n",
    "        end\n",
    "      else\n",
    "        puts \"the Web call failed - see STDERR for details...\"\n",
    "    end\n",
    "  end\n",
    "end"
   ]
  },
  {
   "cell_type": "code",
   "execution_count": null,
   "metadata": {},
   "outputs": [],
   "source": [
    "file = File.open(\"Arabidopsis_prueba.txt\", \"r\").each do |gene_id|\n",
    "  genes = Gene.new(:gene_ID => gene_id.strip.upcase)\n",
    "  genes.search_interactions(genes.gene_ID)\n",
    "end\n",
    "file.close"
   ]
  },
  {
   "cell_type": "code",
   "execution_count": null,
   "metadata": {},
   "outputs": [],
   "source": [
    "  def find_go(gene1,a)\n",
    "    res = fetch(\"http://togows.org/entry/ebi-uniprot/#{gene1}/dr.json\");\n",
    "    if res\n",
    "      data = JSON.parse(res.body)\n",
    "      if data[0] and data[0][\"GO\"]\n",
    "        data[0][\"GO\"].each do |go|\n",
    "          if go[1].match(/P:/)\n",
    "            a << go[0] + \" \" + go[1]\n",
    "            puts a\n",
    "          else \n",
    "            next\n",
    "          end\n",
    "        end\n",
    "      end\n",
    "    else\n",
    "      puts \"togows.org failed - see STDERR for details...\"\n",
    "    end\n",
    "  end\n",
    "b = []"
   ]
  },
  {
   "cell_type": "code",
   "execution_count": null,
   "metadata": {},
   "outputs": [],
   "source": [
    "find_go(\"At2g09990\",b)"
   ]
  },
  {
   "cell_type": "code",
   "execution_count": 1,
   "metadata": {},
   "outputs": [
    {
     "data": {
      "text/plain": [
       ":find_go"
      ]
     },
     "execution_count": 1,
     "metadata": {},
     "output_type": "execute_result"
    }
   ],
   "source": [
    "  def find_go(gene1)\n",
    "    res = fetch(\"http://togows.org/entry/ebi-uniprot/#{gene1}/dr.json\");\n",
    "    if res\n",
    "      data = JSON.parse(res.body)\n",
    "      final_go = []\n",
    "      if data[0] and data[0][\"GO\"]\n",
    "        data[0][\"GO\"].each do |go|\n",
    "          if go[1].match(/P:/)\n",
    "            final_go << go[0] + \" \" + go[1]\n",
    "            puts final_go\n",
    "          else \n",
    "            return\n",
    "          end      \n",
    "        end\n",
    "      end\n",
    "    else\n",
    "      puts \"togows.org failed - see STDERR for details...\"\n",
    "    end\n",
    "  end"
   ]
  },
  {
   "cell_type": "code",
   "execution_count": 2,
   "metadata": {},
   "outputs": [
    {
     "data": {
      "text/plain": [
       ":find_kegg"
      ]
     },
     "execution_count": 2,
     "metadata": {},
     "output_type": "execute_result"
    }
   ],
   "source": [
    "  def find_kegg(gene2)\n",
    "    ros = fetch(\"http://togows.org/entry/kegg-genes/ath:#{gene2}/pathways.json\");\n",
    "    if ros\n",
    "      data = JSON.parse(ros.body)\n",
    "      final_kegg = []\n",
    "      if data[0]\n",
    "        data[0].each do |kegg|\n",
    "            final_kegg = kegg[0]+\":\"+kegg[1]\n",
    "          puts final_kegg\n",
    "          \n",
    "        end\n",
    "      end\n",
    "    else\n",
    "      puts \"togows.org failed - see STDERR for details...\"\n",
    "    end\n",
    "  end"
   ]
  },
  {
   "cell_type": "code",
   "execution_count": null,
   "metadata": {},
   "outputs": [],
   "source": [
    "find_kegg(\"AT4g17030\")"
   ]
  },
  {
   "cell_type": "code",
   "execution_count": null,
   "metadata": {},
   "outputs": [],
   "source": []
  },
  {
   "cell_type": "code",
   "execution_count": null,
   "metadata": {},
   "outputs": [],
   "source": [
    "class ListNetworks\n",
    "  \n",
    "  @@all_interactions = Array.new\n",
    "  attr_accessor :network_ID\n",
    "  attr_accessor :interactors\n",
    "  attr_accessor :network_go\n",
    "  attr_accessor :network_kegg\n",
    "  \n",
    "  def initialize (params = {})\n",
    "    @network_ID = params.fetch(:network_ID, \"000000000\")\n",
    "    @interactors = params.fetch(:interactors, [])\n",
    "    @network_go = params.fetch(:network_go, Array.new)\n",
    "    @network_kegg = params.fetch(:network_kegg, Array.new)\n",
    "       \n",
    "    @@all_interactions << self # Variable containing all the objects of this class\n",
    "    \n",
    "  end  \n",
    "  \n",
    "    def self.find_go(gene1, to_which_class) # Function to find the \"GO: Biological Process\" of the genes\n",
    "    res = fetch(\"http://togows.org/entry/ebi-uniprot/#{gene1}/dr.json\"); # Link to search for interctions indicated in \"http://togows.dbcls.jp/\"\n",
    "    if res\n",
    "      data = JSON.parse(res.body)\n",
    "      if data[0] and data[0][\"GO\"] # Avoiding errors due to non-existent web page or GO terms for the gene\n",
    "        #final_go = []\n",
    "      data[0][\"GO\"].each do |go|\n",
    "        if go[1].match(/P:/) # Matching the \"P\", term for the Biological Process\n",
    "          go_term = [go[0] + \" \" + go[1]]\n",
    "          case\n",
    "            when to_which_class == 1\n",
    "              if not (@go_p.include?(go_term))\n",
    "                @go_p << go_term\n",
    "              end\n",
    "              when to_which_class == 2\n",
    "                ListNetworks.gop_to_ListNetworks(go_term)\n",
    "          end\n",
    "        else\n",
    "          next\n",
    "        end\n",
    "      end\n",
    "    end\n",
    "    else\n",
    "      puts \"togows.org failed - see STDERR for details...\"\n",
    "    end\n",
    "  end\n",
    "  \n",
    "  def self.find_kegg(gene2, to_which_class) # Function to find the \"KEEG Pathways\" of the genes\n",
    "    ros = fetch(\"http://togows.org/entry/kegg-genes/ath:#{gene2}/pathways.json\"); # Link to search for interctions indicated in \"http://togows.dbcls.jp/\"\n",
    "    if ros\n",
    "      data = JSON.parse(ros.body)\n",
    "      if data[0] # Avoiding errors due to non-existent web page\n",
    "        data[0].each do |kegg|\n",
    "          kegg_term = [kegg[0]+\":\"+kegg[1]]\n",
    "          case\n",
    "            when to_which_class == 1\n",
    "              if not (@kegg_pathways.include?(kegg_term))\n",
    "                @kegg_pathways <<  kegg_term\n",
    "              end\n",
    "            when to_which_class == 2\n",
    "              ListNetworks.kegg_to_ListNetworks(kegg_term)\n",
    "            end\n",
    "          end\n",
    "        end\n",
    "    else\n",
    "      puts \"togows.org failed - see STDERR for details...\"\n",
    "    end\n",
    "  end\n",
    "\n",
    " def ListNetworks.gop_to_ListNetworks(go_process)\n",
    "    if @network_go == nil or not (@network_go.include?(go_process))\n",
    "      @network_go = [go_process]\n",
    "      puts @network_go\n",
    "    end\n",
    "  end\n",
    "        \n",
    "    def ListNetworks.kegg_to_ListNetworks(kegg_id_path)\n",
    "      if @network_kegg == nil or not (@network_kegg.include?(kegg_id_path))\n",
    "        @network_kegg << [kegg_id_path]\n",
    "        puts @network_kegg\n",
    "      end\n",
    "    end\n",
    "\n",
    "def ListNetworks.is_in_the_list(gene_to_check) # Function to create networks for genes of the input list that interact between them\n",
    "    if $list_of_genes.include?(gene_to_check) \n",
    "      if @network_ID == nil or (not @network_ID.include?(\"AT1G07010\"))\n",
    "        ListNetworks.new(:network_ID => \"AT1G07010\",\n",
    "                         :interactors => [\"AT1G07010\"],\n",
    "                         :network_go => nil,\n",
    "                         :network_kegg => nil)\n",
    "        puts @interactors\n",
    "        find_go(gene_to_check, 2)\n",
    "        find_kegg(gene_to_check, 2)\n",
    "      else @network_ID == $AGI and not (@interactors.include?(gene_to_check))\n",
    "        @interactors << gene_to_check\n",
    "        puts @interactors\n",
    "        find_go(gene_to_check, 2)\n",
    "        find_kegg(gene_to_check, 2)\n",
    "      end\n",
    "    end\n",
    "  end\n",
    "end\n",
    "  $list_of_genes = [\"AT1G07010\", \"AT4G17030\", \"AT1g17380\"]"
   ]
  },
  {
   "cell_type": "code",
   "execution_count": null,
   "metadata": {},
   "outputs": [],
   "source": [
    "ListNetworks.is_in_the_list(\"AT4G17030\")"
   ]
  },
  {
   "cell_type": "code",
   "execution_count": 4,
   "metadata": {},
   "outputs": [
    {
     "name": "stdout",
     "output_type": "stream",
     "text": [
      "\u001b[1mhola\u001b[0m\n"
     ]
    }
   ],
   "source": [
    "require 'term/ansicolor'\n",
    "include Term::ANSIColor\n",
    "puts \"hola\".bold"
   ]
  },
  {
   "cell_type": "code",
   "execution_count": 3,
   "metadata": {},
   "outputs": [
    {
     "data": {
      "text/plain": [
       ":list_interactions"
      ]
     },
     "execution_count": 3,
     "metadata": {},
     "output_type": "execute_result"
    }
   ],
   "source": [
    "  def list_interactions(gene_to_check)\n",
    "      find_go(gene_to_check)\n",
    "      find_kegg(gene_to_check)\n",
    "      return \"is in the list\"\n",
    "    end"
   ]
  },
  {
   "cell_type": "code",
   "execution_count": 6,
   "metadata": {},
   "outputs": [
    {
     "data": {
      "text/plain": [
       "\"is in the list\""
      ]
     },
     "execution_count": 6,
     "metadata": {},
     "output_type": "execute_result"
    }
   ],
   "source": [
    "list_interactions(\"AT4G17030\")"
   ]
  }
 ],
 "metadata": {
  "kernelspec": {
   "display_name": "Ruby 2.5.1",
   "language": "ruby",
   "name": "ruby"
  },
  "language_info": {
   "file_extension": ".rb",
   "mimetype": "application/x-ruby",
   "name": "ruby",
   "version": "2.5.1"
  }
 },
 "nbformat": 4,
 "nbformat_minor": 2
}
